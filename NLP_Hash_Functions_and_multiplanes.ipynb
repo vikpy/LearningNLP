{
  "nbformat": 4,
  "nbformat_minor": 0,
  "metadata": {
    "kernelspec": {
      "display_name": "Python 3",
      "language": "python",
      "name": "python3"
    },
    "language_info": {
      "codemirror_mode": {
        "name": "ipython",
        "version": 3
      },
      "file_extension": ".py",
      "mimetype": "text/x-python",
      "name": "python",
      "nbconvert_exporter": "python",
      "pygments_lexer": "ipython3",
      "version": "3.7.1"
    },
    "colab": {
      "name": "NLP Hash Functions and multiplanes.ipynb",
      "provenance": [],
      "include_colab_link": true
    }
  },
  "cells": [
    {
      "cell_type": "markdown",
      "metadata": {
        "id": "view-in-github",
        "colab_type": "text"
      },
      "source": [
        "<a href=\"https://colab.research.google.com/github/vikpy/LearningNLP/blob/master/NLP_Hash_Functions_and_multiplanes.ipynb\" target=\"_parent\"><img src=\"https://colab.research.google.com/assets/colab-badge.svg\" alt=\"Open In Colab\"/></a>"
      ]
    },
    {
      "cell_type": "markdown",
      "metadata": {
        "id": "fmJUBjtXalUZ",
        "colab_type": "text"
      },
      "source": [
        "# Hash functions and multiplanes\n",
        "\n",
        "\n",
        "In this lab, we are going to practice the most important concepts related to the hash functions explained in the videos. You will be using these in this week's assignment.\n",
        "\n",
        "A key point for the lookup using hash functions is the calculation of the hash key or bucket id that we assign for a given entry. In this notebook, we will cover:\n",
        "\n",
        "* Basic hash tables\n",
        "* Multiplanes\n",
        "* Random planes"
      ]
    },
    {
      "cell_type": "markdown",
      "metadata": {
        "id": "kxbhn9xValUe",
        "colab_type": "text"
      },
      "source": [
        "## Basic Hash tables\n",
        "\n",
        "Hash tables are data structures that allow indexing data to make lookup tasks more efficient. \n",
        "In this part, you will see the implementation of the simplest hash function."
      ]
    },
    {
      "cell_type": "code",
      "metadata": {
        "id": "c7H3R01NalUg",
        "colab_type": "code",
        "colab": {}
      },
      "source": [
        "import numpy as np                # library for array and matrix manipulation\n",
        "import pprint                     # utilities for console printing \n",
        "from utils_nb import plot_vectors # helper function to plot vectors\n",
        "import matplotlib.pyplot as plt   # visualization library\n",
        "\n",
        "pp = pprint.PrettyPrinter(indent=4) # Instantiate a pretty printer"
      ],
      "execution_count": null,
      "outputs": []
    },
    {
      "cell_type": "markdown",
      "metadata": {
        "id": "Hd4jylW4alUr",
        "colab_type": "text"
      },
      "source": [
        "In the next cell, we will define a straightforward hash function for integer numbers. The function will receive a list of integer numbers and the desired amount of buckets. The function will produce a hash table stored as a dictionary, where keys contain the hash keys, and the values will provide the hashed elements of the input list. \n",
        "\n",
        "The hash function is just the remainder of the integer division between each element and the desired number of buckets."
      ]
    },
    {
      "cell_type": "code",
      "metadata": {
        "id": "qFuz62P6alUs",
        "colab_type": "code",
        "colab": {}
      },
      "source": [
        "def basic_hash_table(value_l, n_buckets):\n",
        "    \n",
        "    def hash_function(value, n_buckets):\n",
        "        return int(value) % n_buckets\n",
        "    \n",
        "    hash_table = {i:[] for i in range(n_buckets)} # Initialize all the buckets in the hash table as empty lists\n",
        "\n",
        "    for value in value_l:\n",
        "        hash_value = hash_function(value,n_buckets) # Get the hash key for the given value\n",
        "        hash_table[hash_value].append(value) # Add the element to the corresponding bucket\n",
        "    \n",
        "    return hash_table"
      ],
      "execution_count": null,
      "outputs": []
    },
    {
      "cell_type": "markdown",
      "metadata": {
        "id": "N2JzjmgJalU1",
        "colab_type": "text"
      },
      "source": [
        "Now let's see the hash table function in action. The pretty print function (`pprint()`) will produce a visually appealing output. "
      ]
    },
    {
      "cell_type": "code",
      "metadata": {
        "id": "O1VWR28aalU3",
        "colab_type": "code",
        "colab": {},
        "outputId": "cd27895a-7b35-469a-836c-4dd37e990f09"
      },
      "source": [
        "value_l = [100, 10, 14, 17, 97] # Set of values to hash\n",
        "hash_table_example = basic_hash_table(value_l, n_buckets=10)\n",
        "pp.pprint(hash_table_example)"
      ],
      "execution_count": null,
      "outputs": [
        {
          "output_type": "stream",
          "text": [
            "{   0: [100, 10],\n",
            "    1: [],\n",
            "    2: [],\n",
            "    3: [],\n",
            "    4: [14],\n",
            "    5: [],\n",
            "    6: [],\n",
            "    7: [17, 97],\n",
            "    8: [],\n",
            "    9: []}\n"
          ],
          "name": "stdout"
        }
      ]
    },
    {
      "cell_type": "markdown",
      "metadata": {
        "id": "l4fZ2IeealU-",
        "colab_type": "text"
      },
      "source": [
        "In this case, the bucket key must be the rightmost digit of each number."
      ]
    },
    {
      "cell_type": "markdown",
      "metadata": {
        "id": "3bVNbm5BalU_",
        "colab_type": "text"
      },
      "source": [
        "## Planes\n",
        "\n",
        "Multiplanes hash functions are other types of hash functions. Multiplanes hash functions are based on the idea of numbering every single region that is formed by the intersection of n planes. In the following code, we show the most basic forms of the multiplanes principle. First, with a single plane:"
      ]
    },
    {
      "cell_type": "code",
      "metadata": {
        "id": "8d8i2toualVA",
        "colab_type": "code",
        "colab": {},
        "outputId": "b2d3075c-a479-43d9-9204-293a02a59f8b"
      },
      "source": [
        "P = np.array([[1, 1]]) # Define a single plane. \n",
        "fig, ax1 = plt.subplots(figsize=(8, 8)) # Create a plot\n",
        "\n",
        "plot_vectors([P], axes=[2, 2], ax=ax1) # Plot the plane P as a vector\n",
        "\n",
        "# Plot  random points. \n",
        "for i in range(0, 10):\n",
        "        v1 = np.array(np.random.uniform(-2, 2, 2)) # Get a pair of random numbers between -4 and 4 \n",
        "        side_of_plane = np.sign(np.dot(P, v1.T)) \n",
        "        \n",
        "        # Color the points depending on the sign of the result of np.dot(P, point.T)\n",
        "        if side_of_plane == 1:\n",
        "            ax1.plot([v1[0]], [v1[1]], 'bo') # Plot blue points\n",
        "        else:\n",
        "            ax1.plot([v1[0]], [v1[1]], 'ro') # Plot red points\n",
        "\n",
        "plt.show()\n"
      ],
      "execution_count": null,
      "outputs": [
        {
          "output_type": "display_data",
          "data": {
            "image/png": "[encoded data removed]",
            "text/plain": [
              "<Figure size 576x576 with 1 Axes>"
            ]
          },
          "metadata": {
            "tags": [],
            "needs_background": "light"
          }
        }
      ]
    },
    {
      "cell_type": "markdown",
      "metadata": {
        "id": "837L0yVUalVG",
        "colab_type": "text"
      },
      "source": [
        "The first thing to note is that the vector that defines the plane does not mark the boundary between the two sides of the plane. It marks the direction in which you find the 'positive' side of the plane. Not intuitive at all!\n",
        "\n",
        "If we want to plot the separation plane, we need to plot a line that is perpendicular to our vector `P`. We can get such a line using a $90^o$ rotation matrix.\n",
        "\n",
        "Feel free to change the direction of the plane `P`."
      ]
    },
    {
      "cell_type": "code",
      "metadata": {
        "id": "qr9FZcVpalVH",
        "colab_type": "code",
        "colab": {},
        "outputId": "2ccc0124-6d78-4329-fe45-bc1f15ae6338"
      },
      "source": [
        "P = np.array([[1, 2]])  # Define a single plane. You may change the direction\n",
        "\n",
        "# Get a new plane perpendicular to P. We use a rotation matrix\n",
        "PT = np.dot([[0, 1], [-1, 0]], P.T).T  \n",
        "\n",
        "fig, ax1 = plt.subplots(figsize=(8, 8)) # Create a plot with custom size\n",
        "\n",
        "plot_vectors([P], colors=['b'], axes=[2, 2], ax=ax1) # Plot the plane P as a vector\n",
        "\n",
        "# Plot the plane P as a 2 vectors. \n",
        "# We scale by 2 just to get the arrows outside the current box\n",
        "plot_vectors([PT * 4, PT * -4], colors=['k', 'k'], axes=[4, 4], ax=ax1)\n",
        "\n",
        "# Plot 20 random points. \n",
        "for i in range(0, 20):\n",
        "        v1 = np.array(np.random.uniform(-4, 4, 2)) # Get a pair of random numbers between -4 and 4 \n",
        "        side_of_plane = np.sign(np.dot(P, v1.T)) # Get the sign of the dot product with P\n",
        "        # Color the points depending on the sign of the result of np.dot(P, point.T)\n",
        "        if side_of_plane == 1:\n",
        "            ax1.plot([v1[0]], [v1[1]], 'bo') # Plot a blue point\n",
        "        else:\n",
        "            ax1.plot([v1[0]], [v1[1]], 'ro') # Plot a red point\n",
        "\n",
        "plt.show()\n"
      ],
      "execution_count": null,
      "outputs": [
        {
          "output_type": "display_data",
          "data": {
            "image/png": "[encoded data removed]",
            "text/plain": [
              "<Figure size 576x576 with 1 Axes>"
            ]
          },
          "metadata": {
            "tags": [],
            "needs_background": "light"
          }
        }
      ]
    },
    {
      "cell_type": "markdown",
      "metadata": {
        "id": "q6Ec2h1halVM",
        "colab_type": "text"
      },
      "source": [
        "Now, let us see what is inside the code that color the points. "
      ]
    },
    {
      "cell_type": "code",
      "metadata": {
        "id": "5WJ18D2YalVN",
        "colab_type": "code",
        "colab": {}
      },
      "source": [
        "P = np.array([[1, 1]])      # Single plane\n",
        "v1 = np.array([[1, 2]])     # Sample point 1\n",
        "v2 = np.array([[-1, 1]])    # Sample point 2\n",
        "v3 = np.array([[-2, -1]])   # Sample point 3"
      ],
      "execution_count": null,
      "outputs": []
    },
    {
      "cell_type": "code",
      "metadata": {
        "id": "ikr4g9L1alVT",
        "colab_type": "code",
        "colab": {},
        "outputId": "5c449baa-3397-450c-96db-18dfade5f72e"
      },
      "source": [
        "np.dot(P, v1.T)"
      ],
      "execution_count": null,
      "outputs": [
        {
          "output_type": "execute_result",
          "data": {
            "text/plain": [
              "array([[3]])"
            ]
          },
          "metadata": {
            "tags": []
          },
          "execution_count": 8
        }
      ]
    },
    {
      "cell_type": "code",
      "metadata": {
        "id": "mTUDJVq6alVZ",
        "colab_type": "code",
        "colab": {},
        "outputId": "9c572572-bfa6-41a2-e326-8d938a9d97c4"
      },
      "source": [
        "np.dot(P, v2.T)"
      ],
      "execution_count": null,
      "outputs": [
        {
          "output_type": "execute_result",
          "data": {
            "text/plain": [
              "array([[0]])"
            ]
          },
          "metadata": {
            "tags": []
          },
          "execution_count": 9
        }
      ]
    },
    {
      "cell_type": "code",
      "metadata": {
        "id": "89_sRfHdalVb",
        "colab_type": "code",
        "colab": {},
        "outputId": "f48c7c2e-40cd-4a5b-c384-36b627a993e7"
      },
      "source": [
        "np.dot(P, v3.T)"
      ],
      "execution_count": null,
      "outputs": [
        {
          "output_type": "execute_result",
          "data": {
            "text/plain": [
              "array([[-3]])"
            ]
          },
          "metadata": {
            "tags": []
          },
          "execution_count": 10
        }
      ]
    },
    {
      "cell_type": "markdown",
      "metadata": {
        "id": "9vU5iK87alVj",
        "colab_type": "text"
      },
      "source": [
        "The function below checks in which side of the plane P is located the vector `v`"
      ]
    },
    {
      "cell_type": "code",
      "metadata": {
        "id": "tLT5_8TSalVj",
        "colab_type": "code",
        "colab": {}
      },
      "source": [
        "def side_of_plane(P, v):\n",
        "    dotproduct = np.dot(P, v.T) # Get the dot product P * v'\n",
        "    sign_of_dot_product = np.sign(dotproduct) # The sign of the elements of the dotproduct matrix \n",
        "    sign_of_dot_product_scalar = sign_of_dot_product.item() # The value of the first item\n",
        "    return sign_of_dot_product_scalar"
      ],
      "execution_count": null,
      "outputs": []
    },
    {
      "cell_type": "code",
      "metadata": {
        "id": "tA3qbyV6alVm",
        "colab_type": "code",
        "colab": {},
        "outputId": "8e6b1167-ab89-44d1-a124-ee428e91e283"
      },
      "source": [
        "side_of_plane(P, v1) # In which side is [1, 2]"
      ],
      "execution_count": null,
      "outputs": [
        {
          "output_type": "execute_result",
          "data": {
            "text/plain": [
              "1"
            ]
          },
          "metadata": {
            "tags": []
          },
          "execution_count": 12
        }
      ]
    },
    {
      "cell_type": "code",
      "metadata": {
        "id": "M5nmv9CcalVp",
        "colab_type": "code",
        "colab": {},
        "outputId": "1f6e237d-8bfb-4876-f5bf-b7b50b8e1288"
      },
      "source": [
        "side_of_plane(P, v2) # In which side is [-1, 1]"
      ],
      "execution_count": null,
      "outputs": [
        {
          "output_type": "execute_result",
          "data": {
            "text/plain": [
              "0"
            ]
          },
          "metadata": {
            "tags": []
          },
          "execution_count": 13
        }
      ]
    },
    {
      "cell_type": "code",
      "metadata": {
        "id": "nSBW5OQTalVs",
        "colab_type": "code",
        "colab": {},
        "outputId": "727fbfd4-c600-45fc-cb0c-ce11d8b60735"
      },
      "source": [
        "side_of_plane(P, v3) # In which side is [-2, -1]"
      ],
      "execution_count": null,
      "outputs": [
        {
          "output_type": "execute_result",
          "data": {
            "text/plain": [
              "-1"
            ]
          },
          "metadata": {
            "tags": []
          },
          "execution_count": 14
        }
      ]
    },
    {
      "cell_type": "markdown",
      "metadata": {
        "id": "rDp9YSiWalVv",
        "colab_type": "text"
      },
      "source": [
        "## Hash Function with multiple planes\n",
        "\n",
        "In the following section, we are going to define a hash function with a list of three custom planes in 2D."
      ]
    },
    {
      "cell_type": "code",
      "metadata": {
        "id": "q-D8Kwq3alVw",
        "colab_type": "code",
        "colab": {}
      },
      "source": [
        "P1 = np.array([[1, 1]])   # First plane 2D\n",
        "P2 = np.array([[-1, 1]])  # Second plane 2D\n",
        "P3 = np.array([[-1, -1]]) # Third plane 2D\n",
        "P_l = [P1, P2, P3]  # List of arrays. It is the multi plane\n",
        "\n",
        "# Vector to search\n",
        "v = np.array([[2, 2]])"
      ],
      "execution_count": null,
      "outputs": []
    },
    {
      "cell_type": "markdown",
      "metadata": {
        "id": "DY3U2kH8alVz",
        "colab_type": "text"
      },
      "source": [
        "The next function creates a hash value based on a set of planes. The output value is a combination of the side of the plane where the vector is localized with respect to the collection of planes.\n",
        "\n",
        "We can think of this list of planes as a set of basic hash functions, each of which can produce only 1 or 0 as output."
      ]
    },
    {
      "cell_type": "code",
      "metadata": {
        "id": "3WOl3XScalVz",
        "colab_type": "code",
        "colab": {}
      },
      "source": [
        "def hash_multi_plane(P_l, v):\n",
        "    hash_value = 0\n",
        "    for i, P in enumerate(P_l):\n",
        "        sign = side_of_plane(P,v)\n",
        "        hash_i = 1 if sign >=0 else 0\n",
        "        hash_value += 2**i * hash_i\n",
        "    return hash_value"
      ],
      "execution_count": null,
      "outputs": []
    },
    {
      "cell_type": "code",
      "metadata": {
        "id": "QUSBUzRJalV1",
        "colab_type": "code",
        "colab": {},
        "outputId": "e05f9079-e3b3-4ee5-8253-5288c768a074"
      },
      "source": [
        "hash_multi_plane(P_l, v) # Find the number of the plane that containes this value"
      ],
      "execution_count": null,
      "outputs": [
        {
          "output_type": "execute_result",
          "data": {
            "text/plain": [
              "3"
            ]
          },
          "metadata": {
            "tags": []
          },
          "execution_count": 18
        }
      ]
    },
    {
      "cell_type": "markdown",
      "metadata": {
        "id": "Xhc51qSralV4",
        "colab_type": "text"
      },
      "source": [
        "## Random Planes\n",
        "\n",
        "In the cell below, we create a set of three random planes"
      ]
    },
    {
      "cell_type": "code",
      "metadata": {
        "id": "hYiEA3jFalV5",
        "colab_type": "code",
        "colab": {},
        "outputId": "d8b05d28-7138-4001-866f-a6b71f021676"
      },
      "source": [
        "np.random.seed(0)\n",
        "num_dimensions = 2 # is 300 in assignment\n",
        "num_planes = 3 # is 10 in assignment\n",
        "random_planes_matrix = np.random.normal(\n",
        "                       size=(num_planes,\n",
        "                             num_dimensions))\n",
        "print(random_planes_matrix)"
      ],
      "execution_count": null,
      "outputs": [
        {
          "output_type": "stream",
          "text": [
            "[[ 1.76405235  0.40015721]\n",
            " [ 0.97873798  2.2408932 ]\n",
            " [ 1.86755799 -0.97727788]]\n"
          ],
          "name": "stdout"
        }
      ]
    },
    {
      "cell_type": "code",
      "metadata": {
        "id": "rtLeYM-palV7",
        "colab_type": "code",
        "colab": {}
      },
      "source": [
        "v = np.array([[2, 2]])"
      ],
      "execution_count": null,
      "outputs": []
    },
    {
      "cell_type": "markdown",
      "metadata": {
        "id": "JKQ9O3cSalV9",
        "colab_type": "text"
      },
      "source": [
        "The next function is similar to the `side_of_plane()` function, but it evaluates more than a plane each time. The result is an array with the side of the plane of `v`, for the set of planes `P`"
      ]
    },
    {
      "cell_type": "code",
      "metadata": {
        "id": "xojS4Ua0alV9",
        "colab_type": "code",
        "colab": {}
      },
      "source": [
        "# Side of the plane function. The result is a matrix\n",
        "def side_of_plane_matrix(P, v):\n",
        "    dotproduct = np.dot(P, v.T)\n",
        "    sign_of_dot_product = np.sign(dotproduct) # Get a boolean value telling if the value in the cell is positive or negative\n",
        "    return sign_of_dot_product"
      ],
      "execution_count": null,
      "outputs": []
    },
    {
      "cell_type": "markdown",
      "metadata": {
        "id": "H8xNi1d3alV_",
        "colab_type": "text"
      },
      "source": [
        "Get the side of the plane of the vector `[2, 2]` for the set of random planes. "
      ]
    },
    {
      "cell_type": "code",
      "metadata": {
        "id": "em7eHp8dalV_",
        "colab_type": "code",
        "colab": {},
        "outputId": "82edba79-c0d5-4c60-df36-d48a398cec55"
      },
      "source": [
        "sides_l = side_of_plane_matrix(\n",
        "            random_planes_matrix, v)\n",
        "sides_l"
      ],
      "execution_count": null,
      "outputs": [
        {
          "output_type": "execute_result",
          "data": {
            "text/plain": [
              "array([[1.],\n",
              "       [1.],\n",
              "       [1.]])"
            ]
          },
          "metadata": {
            "tags": []
          },
          "execution_count": 22
        }
      ]
    },
    {
      "cell_type": "markdown",
      "metadata": {
        "id": "9PpnTqVgalWB",
        "colab_type": "text"
      },
      "source": [
        "Now, let us use the former function to define our multiplane hash function"
      ]
    },
    {
      "cell_type": "code",
      "metadata": {
        "id": "J6RO3d_walWB",
        "colab_type": "code",
        "colab": {}
      },
      "source": [
        "def hash_multi_plane_matrix(P, v, num_planes):\n",
        "    sides_matrix = side_of_plane_matrix(P, v) # Get the side of planes for P and v\n",
        "    hash_value = 0\n",
        "    for i in range(num_planes):\n",
        "        sign = sides_matrix[i].item() # Get the value inside the matrix cell\n",
        "        hash_i = 1 if sign >=0 else 0\n",
        "        hash_value += 2**i * hash_i # sum 2^i * hash_i\n",
        "        \n",
        "    return hash_value"
      ],
      "execution_count": null,
      "outputs": []
    },
    {
      "cell_type": "markdown",
      "metadata": {
        "id": "EbYFs3PdalWE",
        "colab_type": "text"
      },
      "source": [
        "Print the bucket hash for the vector `v = [2, 2]`. "
      ]
    },
    {
      "cell_type": "code",
      "metadata": {
        "id": "jtOB_0MHalWE",
        "colab_type": "code",
        "colab": {},
        "outputId": "a9d04465-f5b3-4951-b8d1-982d7c2f2412"
      },
      "source": [
        "hash_multi_plane_matrix(random_planes_matrix, v, num_planes)"
      ],
      "execution_count": null,
      "outputs": [
        {
          "output_type": "execute_result",
          "data": {
            "text/plain": [
              "7"
            ]
          },
          "metadata": {
            "tags": []
          },
          "execution_count": 24
        }
      ]
    },
    {
      "cell_type": "markdown",
      "metadata": {
        "id": "6zyCyni2alWG",
        "colab_type": "text"
      },
      "source": [
        "#### Note\n",
        "This showed you how to make one set of random planes.  You will make multiple sets of random planes in order to make the approximate nearest neighbors more accurate."
      ]
    },
    {
      "cell_type": "markdown",
      "metadata": {
        "id": "LXB2NaT3alWG",
        "colab_type": "text"
      },
      "source": [
        "## Document vectors\n",
        "\n",
        "Before we finish this lab, remember that you can represent a document as a vector by adding up the word vectors for the words inside the document. In this example, our embedding contains only three words, each represented by a 3D array."
      ]
    },
    {
      "cell_type": "code",
      "metadata": {
        "id": "imW_Q9pcalWH",
        "colab_type": "code",
        "colab": {},
        "outputId": "dfc586bf-8f7e-4623-b0d6-0d8581e757f8"
      },
      "source": [
        "word_embedding = {\"I\": np.array([1,0,1]),\n",
        "                   \"love\": np.array([-1,0,1]),\n",
        "                   \"learning\": np.array([1,0,1])\n",
        "                  }\n",
        "words_in_document = ['I', 'love', 'learning', 'not_a_word']\n",
        "document_embedding = np.array([0,0,0])\n",
        "for word in words_in_document:\n",
        "    document_embedding += word_embedding.get(word,0)\n",
        "    \n",
        "print(document_embedding)"
      ],
      "execution_count": null,
      "outputs": [
        {
          "output_type": "stream",
          "text": [
            "[1 0 3]\n"
          ],
          "name": "stdout"
        }
      ]
    },
    {
      "cell_type": "markdown",
      "metadata": {
        "id": "SJKTLvIEalWJ",
        "colab_type": "text"
      },
      "source": [
        "**Congratulations! You've now completed this lab on hash functions and multiplanes!**"
      ]
    }
  ]
}