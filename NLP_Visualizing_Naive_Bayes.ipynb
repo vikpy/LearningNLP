{
  "nbformat": 4,
  "nbformat_minor": 0,
  "metadata": {
    "kernelspec": {
      "display_name": "Python 3",
      "language": "python",
      "name": "python3"
    },
    "language_info": {
      "codemirror_mode": {
        "name": "ipython",
        "version": 3
      },
      "file_extension": ".py",
      "mimetype": "text/x-python",
      "name": "python",
      "nbconvert_exporter": "python",
      "pygments_lexer": "ipython3",
      "version": "3.7.1"
    },
    "colab": {
      "name": "NLP Visualizing Naive Bayes.ipynb",
      "provenance": [],
      "collapsed_sections": [],
      "include_colab_link": true
    }
  },
  "cells": [
    {
      "cell_type": "markdown",
      "metadata": {
        "id": "view-in-github",
        "colab_type": "text"
      },
      "source": [
        "<a href=\"https://colab.research.google.com/github/vikpy/LearningNLP/blob/master/NLP_Visualizing_Naive_Bayes.ipynb\" target=\"_parent\"><img src=\"https://colab.research.google.com/assets/colab-badge.svg\" alt=\"Open In Colab\"/></a>"
      ]
    },
    {
      "cell_type": "markdown",
      "metadata": {
        "id": "bttAvjn7x825",
        "colab_type": "text"
      },
      "source": [
        "# Visualizing Naive Bayes\n",
        "\n",
        "In this lab, we will cover an essential part of data analysis that has not been included in the lecture videos. As we stated in the previous module, data visualization gives insight into the expected performance of any model. \n",
        "\n",
        "In the following exercise, you are going to make a visual inspection of the tweets dataset using the Naïve Bayes features. We will see how we can understand the log-likelihood ratio explained in the videos as a pair of numerical features that can be fed in a machine learning algorithm. \n",
        "\n",
        "At the end of this lab, we will introduce the concept of __confidence ellipse__ as a tool for representing the Naïve Bayes model visually."
      ]
    },
    {
      "cell_type": "code",
      "metadata": {
        "id": "Qll1bQvVySnj",
        "colab_type": "code",
        "colab": {}
      },
      "source": [
        "import numpy as np\n",
        "import matplotlib.pyplot as plt\n",
        "from matplotlib.patches import Ellipse\n",
        "import matplotlib.transforms as transforms\n",
        "\n",
        "\n",
        "def get_correlated_dataset(n, dependency, mu, scale):\n",
        "    latent = np.random.randn(n, 2)\n",
        "    dependent = latent.dot(dependency)\n",
        "    scaled = dependent * scale\n",
        "    scaled_with_offset = scaled + mu\n",
        "    # return x and y of the new, correlated dataset\n",
        "    return scaled_with_offset[:, 0], scaled_with_offset[:, 1]\n",
        "\n",
        "def confidence_ellipse(x, y, ax, n_std=3.0, facecolor='none', **kwargs):\n",
        "    \"\"\"\n",
        "    Create a plot of the covariance confidence ellipse of `x` and `y`\n",
        "\n",
        "    Parameters\n",
        "    ----------\n",
        "    x, y : array_like, shape (n, )\n",
        "        Input data.\n",
        "\n",
        "    ax : matplotlib.axes.Axes\n",
        "        The axes object to draw the ellipse into.\n",
        "\n",
        "    n_std : float\n",
        "        The number of standard deviations to determine the ellipse's radiuses.\n",
        "\n",
        "    Returns\n",
        "    -------\n",
        "    matplotlib.patches.Ellipse\n",
        "\n",
        "    Other parameters\n",
        "    ----------------\n",
        "    kwargs : `~matplotlib.patches.Patch` properties\n",
        "    \"\"\"\n",
        "    if x.size != y.size:\n",
        "        raise ValueError(\"x and y must be the same size\")\n",
        "\n",
        "    cov = np.cov(x, y)\n",
        "    pearson = cov[0, 1]/np.sqrt(cov[0, 0] * cov[1, 1])\n",
        "    # Using a special case to obtain the eigenvalues of this\n",
        "    # two-dimensionl dataset.\n",
        "    ell_radius_x = np.sqrt(1 + pearson)\n",
        "    ell_radius_y = np.sqrt(1 - pearson)\n",
        "    ellipse = Ellipse((0, 0),\n",
        "        width=ell_radius_x * 2,\n",
        "        height=ell_radius_y * 2,\n",
        "        facecolor=facecolor,\n",
        "        **kwargs)\n",
        "\n",
        "    # Calculating the stdandard deviation of x from\n",
        "    # the squareroot of the variance and multiplying\n",
        "    # with the given number of standard deviations.\n",
        "    scale_x = np.sqrt(cov[0, 0]) * n_std\n",
        "    mean_x = np.mean(x)\n",
        "\n",
        "    # calculating the stdandard deviation of y ...\n",
        "    scale_y = np.sqrt(cov[1, 1]) * n_std\n",
        "    mean_y = np.mean(y)\n",
        "\n",
        "    transf = transforms.Affine2D() \\\n",
        "        .rotate_deg(45) \\\n",
        "        .scale(scale_x, scale_y) \\\n",
        "        .translate(mean_x, mean_y)\n",
        "\n",
        "    ellipse.set_transform(transf + ax.transData)\n",
        "    return ax.add_patch(ellipse)"
      ],
      "execution_count": null,
      "outputs": []
    },
    {
      "cell_type": "code",
      "metadata": {
        "id": "NOrFS6Bbx826",
        "colab_type": "code",
        "colab": {}
      },
      "source": [
        "import numpy as np # Library for linear algebra and math utils\n",
        "import pandas as pd # Dataframe library\n",
        "\n",
        "import matplotlib.pyplot as plt # Library for plots\n",
        "#from utils import confidence_ellipse # Function to add confidence ellipses to charts"
      ],
      "execution_count": null,
      "outputs": []
    },
    {
      "cell_type": "markdown",
      "metadata": {
        "id": "5Dpts5Kcx829",
        "colab_type": "text"
      },
      "source": [
        " ## Calculate the likelihoods for each tweet\n",
        "\n",
        "For each tweet, we have calculated the likelihood of the tweet to be positive and the likelihood to be negative. We have calculated in different columns the numerator and denominator of the likelihood ratio introduced previously.  \n",
        "\n",
        "$$log \\frac{P(tweet|pos)}{P(tweet|neg)} = log(P(tweet|pos)) - log(P(tweet|neg)) $$\n",
        "$$positive = log(P(tweet|pos)) = \\sum_{i=0}^{n}{log P(W_i|pos)}$$\n",
        "$$negative = log(P(tweet|neg)) = \\sum_{i=0}^{n}{log P(W_i|neg)}$$\n",
        "\n",
        "We did not include the code because this is part of this week's assignment.  The __'bayes_features.csv'__ file contains the final result of this process. \n",
        "\n",
        "The cell below loads the table in a dataframe. Dataframes are data structures that simplify the manipulation of data, allowing filtering, slicing, joining, and summarization."
      ]
    },
    {
      "cell_type": "code",
      "metadata": {
        "id": "JOJKhyrsx82-",
        "colab_type": "code",
        "colab": {}
      },
      "source": [
        "data = pd.read_csv('bayes_features.csv'); # Load the data from the csv file\n",
        "\n",
        "data.head(5) # Print the first 5 tweets features. Each row represents a tweet"
      ],
      "execution_count": null,
      "outputs": []
    },
    {
      "cell_type": "code",
      "metadata": {
        "id": "GhisrfF6x83B",
        "colab_type": "code",
        "colab": {}
      },
      "source": [
        "# Plot the samples using columns 1 and 2 of the matrix\n",
        "\n",
        "fig, ax = plt.subplots(figsize = (8, 8)) #Create a new figure with a custom size\n",
        "\n",
        "colors = ['red', 'green'] # Define a color palete\n",
        "\n",
        "# Color base on sentiment\n",
        "ax.scatter(data.positive, data.negative, \n",
        "    c=[colors[int(k)] for k in data.sentiment], s = 0.1, marker='*')  # Plot a dot for each tweet\n",
        "\n",
        "# Custom limits for this chart\n",
        "plt.xlim(-250,0)\n",
        "plt.ylim(-250,0)\n",
        "\n",
        "plt.xlabel(\"Positive\") # x-axis label\n",
        "plt.ylabel(\"Negative\") # y-axis label"
      ],
      "execution_count": null,
      "outputs": []
    },
    {
      "cell_type": "markdown",
      "metadata": {
        "id": "7fkTgDHSx83D",
        "colab_type": "text"
      },
      "source": [
        "# Using Confidence Ellipses to interpret Naïve Bayes\n",
        "\n",
        "In this section, we will use the [confidence ellipse]( https://matplotlib.org/3.1.1/gallery/statistics/confidence_ellipse.html#sphx-glr-gallery-statistics-confidence-ellipse-py) to give us an idea of what the Naïve Bayes model see.\n",
        "\n",
        "A confidence ellipse is a way to visualize a 2D random variable. It is a better way than plotting the points over a cartesian plane because, with big datasets, the points can overlap badly and hide the real distribution of the data. Confidence ellipses summarize the information of the dataset with only four parameters: \n",
        "\n",
        "* Center: It is the numerical mean of the attributes\n",
        "* Height and width: Related with the variance of each attribute. The user must specify the desired amount of standard deviations used to plot the ellipse. \n",
        "* Angle: Related with the covariance among attributes.\n",
        "\n",
        "The parameter __n_std__ stands for the number of standard deviations bounded by the ellipse. Remember that for normal random distributions:\n",
        "\n",
        "* About 68% of the area under the curve falls within 1 standard deviation around the mean.\n",
        "* About 95% of the area under the curve falls within 2 standard deviations around the mean.\n",
        "* About 99.7% of the area under the curve falls within 3 standard deviations around the mean.\n",
        "\n",
        "<img src=std.jpg width=\"400\" >\n",
        "\n",
        "\n",
        "In the next chart, we will plot the data and its corresponding confidence ellipses using 2 std and 3 std. "
      ]
    },
    {
      "cell_type": "code",
      "metadata": {
        "id": "f5cVICJNx83E",
        "colab_type": "code",
        "colab": {}
      },
      "source": [
        "# Plot the samples using columns 1 and 2 of the matrix\n",
        "fig, ax = plt.subplots(figsize = (8, 8))\n",
        "\n",
        "colors = ['red', 'green'] # Define a color palete\n",
        "\n",
        "# Color base on sentiment\n",
        "\n",
        "ax.scatter(data.positive, data.negative, c=[colors[int(k)] for k in data.sentiment], s = 0.1, marker='*')  # Plot a dot for tweet\n",
        "\n",
        "# Custom limits for this chart\n",
        "plt.xlim(-200,40)  \n",
        "plt.ylim(-200,40)\n",
        "\n",
        "plt.xlabel(\"Positive\") # x-axis label\n",
        "plt.ylabel(\"Negative\") # y-axis label\n",
        "\n",
        "data_pos = data[data.sentiment == 1] # Filter only the positive samples\n",
        "data_neg = data[data.sentiment == 0] # Filter only the negative samples\n",
        "\n",
        "# Print confidence ellipses of 2 std\n",
        "confidence_ellipse(data_pos.positive, data_pos.negative, ax, n_std=2, edgecolor='black', label=r'$2\\sigma$' )\n",
        "confidence_ellipse(data_neg.positive, data_neg.negative, ax, n_std=2, edgecolor='orange')\n",
        "\n",
        "# Print confidence ellipses of 3 std\n",
        "confidence_ellipse(data_pos.positive, data_pos.negative, ax, n_std=3, edgecolor='black', linestyle=':', label=r'$3\\sigma$')\n",
        "confidence_ellipse(data_neg.positive, data_neg.negative, ax, n_std=3, edgecolor='orange', linestyle=':')\n",
        "ax.legend()\n",
        "\n",
        "plt.show()"
      ],
      "execution_count": null,
      "outputs": []
    },
    {
      "cell_type": "markdown",
      "metadata": {
        "id": "-JRgeO2Nx83I",
        "colab_type": "text"
      },
      "source": [
        "In the next cell, we will modify the features of the samples with positive sentiment (1), in a way that the two distributions overlap. In this case, the Naïve Bayes method will produce a lower accuracy than with the original data."
      ]
    },
    {
      "cell_type": "code",
      "metadata": {
        "id": "vsK_CcUUx83I",
        "colab_type": "code",
        "colab": {}
      },
      "source": [
        "data2 = data.copy() # Copy the whole data frame\n",
        "\n",
        "# The following 2 lines only modify the entries in the data frame where sentiment == 1\n",
        "data2.negative[data.sentiment == 1] =  data2.negative * 1.5 + 50 # Modify the negative attribute\n",
        "data2.positive[data.sentiment == 1] =  data2.positive / 1.5 - 50 # Modify the positive attribute "
      ],
      "execution_count": null,
      "outputs": []
    },
    {
      "cell_type": "markdown",
      "metadata": {
        "id": "dLqAvhM7x83L",
        "colab_type": "text"
      },
      "source": [
        "Now let us plot the two distributions and the confidence ellipses"
      ]
    },
    {
      "cell_type": "code",
      "metadata": {
        "id": "5-aRLFTmx83M",
        "colab_type": "code",
        "colab": {}
      },
      "source": [
        "# Plot the samples using columns 1 and 2 of the matrix\n",
        "fig, ax = plt.subplots(figsize = (8, 8))\n",
        "\n",
        "colors = ['red', 'green'] # Define a color palete\n",
        "\n",
        "# Color base on sentiment\n",
        "\n",
        "#data.negative[data.sentiment == 1] =  data.negative * 2\n",
        "\n",
        "ax.scatter(data2.positive, data2.negative, c=[colors[int(k)] for k in data2.sentiment], s = 0.1, marker='*')  # Plot a dot for tweet\n",
        "# Custom limits for this chart\n",
        "plt.xlim(-200,40)  \n",
        "plt.ylim(-200,40)\n",
        "\n",
        "plt.xlabel(\"Positive\") # x-axis label\n",
        "plt.ylabel(\"Negative\") # y-axis label\n",
        "\n",
        "data_pos = data2[data2.sentiment == 1] # Filter only the positive samples\n",
        "data_neg = data[data2.sentiment == 0] # Filter only the negative samples\n",
        "\n",
        "# Print confidence ellipses of 2 std\n",
        "confidence_ellipse(data_pos.positive, data_pos.negative, ax, n_std=2, edgecolor='black', label=r'$2\\sigma$' )\n",
        "confidence_ellipse(data_neg.positive, data_neg.negative, ax, n_std=2, edgecolor='orange')\n",
        "\n",
        "# Print confidence ellipses of 3 std\n",
        "confidence_ellipse(data_pos.positive, data_pos.negative, ax, n_std=3, edgecolor='black', linestyle=':', label=r'$3\\sigma$')\n",
        "confidence_ellipse(data_neg.positive, data_neg.negative, ax, n_std=3, edgecolor='orange', linestyle=':')\n",
        "ax.legend()\n",
        "\n",
        "plt.show()"
      ],
      "execution_count": null,
      "outputs": []
    },
    {
      "cell_type": "markdown",
      "metadata": {
        "id": "hxmI4jc0x83O",
        "colab_type": "text"
      },
      "source": [
        "To give away: Understanding the data allows us to predict if the method will perform well or not. Alternatively, it will allow us to understand why it worked well or bad."
      ]
    }
  ]
}